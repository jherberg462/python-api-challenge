{
 "cells": [
  {
   "cell_type": "code",
   "execution_count": 1,
   "metadata": {},
   "outputs": [],
   "source": [
    "#Dependencies\n",
    "import pandas as pd\n",
    "import numpy as np\n",
    "import matplotlib.pyplot as plt\n",
    "import requests\n",
    "import json\n",
    "import time\n",
    "from citipy import citipy\n",
    "\n",
    "\n",
    "#api key\n",
    "from config import apikey\n",
    "\n"
   ]
  },
  {
   "cell_type": "code",
   "execution_count": 2,
   "metadata": {},
   "outputs": [],
   "source": [
    "# Range of latitudes and longitudes\n",
    "lat_range = (-90, 90)\n",
    "lng_range = (-180, 180)"
   ]
  },
  {
   "cell_type": "code",
   "execution_count": 3,
   "metadata": {},
   "outputs": [],
   "source": [
    "#create empty list for coordinates set of possible cities\n",
    "coor_set = []\n",
    "\n",
    "#create empty list of cites\n",
    "cities = []\n",
    "\n",
    "#generate random set of latitudes and longitudes\n",
    "lats = np.random.uniform(low=-90.000, high=90.000, size=1500)\n",
    "lngs = np.random.uniform(low=-180.000, high=180.000, size=1500)\n",
    "cord = zip(lats, lngs) #zip list of latitudes and longitudes together\n"
   ]
  },
  {
   "cell_type": "code",
   "execution_count": 4,
   "metadata": {},
   "outputs": [],
   "source": [
    "for x, d in cord:\n",
    "    city = citipy.nearest_city(x, d).city_name\n",
    "    if city not in cities:\n",
    "        cities.append(city)\n"
   ]
  },
  {
   "cell_type": "code",
   "execution_count": 5,
   "metadata": {},
   "outputs": [
    {
     "data": {
      "text/plain": [
       "603"
      ]
     },
     "execution_count": 5,
     "metadata": {},
     "output_type": "execute_result"
    }
   ],
   "source": [
    "len(cities)"
   ]
  },
  {
   "cell_type": "code",
   "execution_count": 90,
   "metadata": {},
   "outputs": [],
   "source": [
    "#create empty lists for data that will be pulled\n",
    "long = []\n",
    "lat = []\n",
    "max_temp = []\n",
    "humidity = []\n",
    "clouds = []\n",
    "wind = []\n",
    "country = []\n",
    "name = []"
   ]
  },
  {
   "cell_type": "code",
   "execution_count": 91,
   "metadata": {},
   "outputs": [
    {
     "name": "stdout",
     "output_type": "stream",
     "text": [
      "Beginning Data Retrieval\n",
      "-----------------------------\n",
      "Processing Record 1 | bavly\n",
      "Processing Record 2 | zhigansk\n",
      "Processing Record 3 | punta arenas\n",
      "Processing Record 4 | manta\n",
      "Processing Record 5 | beyneu\n",
      "Processing Record 6 | saskylakh\n"
     ]
    },
    {
     "ename": "KeyboardInterrupt",
     "evalue": "",
     "output_type": "error",
     "traceback": [
      "\u001b[0;31m---------------------------------------------------------------------------\u001b[0m",
      "\u001b[0;31mKeyboardInterrupt\u001b[0m                         Traceback (most recent call last)",
      "\u001b[0;32m<ipython-input-91-2044527bd407>\u001b[0m in \u001b[0;36m<module>\u001b[0;34m\u001b[0m\n\u001b[1;32m     25\u001b[0m         \u001b[0mname\u001b[0m\u001b[0;34m.\u001b[0m\u001b[0mappend\u001b[0m\u001b[0;34m(\u001b[0m\u001b[0mname1\u001b[0m\u001b[0;34m)\u001b[0m\u001b[0;34m\u001b[0m\u001b[0;34m\u001b[0m\u001b[0m\n\u001b[1;32m     26\u001b[0m         \u001b[0mprint\u001b[0m\u001b[0;34m(\u001b[0m\u001b[0;34mf'Processing Record {len(name)} | {x}'\u001b[0m\u001b[0;34m)\u001b[0m\u001b[0;34m\u001b[0m\u001b[0;34m\u001b[0m\u001b[0m\n\u001b[0;32m---> 27\u001b[0;31m         \u001b[0mtime\u001b[0m\u001b[0;34m.\u001b[0m\u001b[0msleep\u001b[0m\u001b[0;34m(\u001b[0m\u001b[0;36m0.95\u001b[0m\u001b[0;34m)\u001b[0m \u001b[0;31m#wait 0.95 seconds to move on; this keeps api requests within my rate limit\u001b[0m\u001b[0;34m\u001b[0m\u001b[0;34m\u001b[0m\u001b[0m\n\u001b[0m\u001b[1;32m     28\u001b[0m     \u001b[0;32mexcept\u001b[0m \u001b[0mKeyError\u001b[0m\u001b[0;34m:\u001b[0m\u001b[0;34m\u001b[0m\u001b[0;34m\u001b[0m\u001b[0m\n\u001b[1;32m     29\u001b[0m         \u001b[0mprint\u001b[0m\u001b[0;34m(\u001b[0m\u001b[0;34mf'{x} not found. Skipping...'\u001b[0m\u001b[0;34m)\u001b[0m\u001b[0;34m\u001b[0m\u001b[0;34m\u001b[0m\u001b[0m\n",
      "\u001b[0;31mKeyboardInterrupt\u001b[0m: "
     ]
    }
   ],
   "source": [
    "print(f'Beginning Data Retrieval')\n",
    "print(f'-----------------------------')\n",
    "for x in cities:\n",
    "    try:\n",
    "        url = ('http://api.openweathermap.org/data/2.5/weather?q={0}&units=Imperial&APPID={1}').format(\n",
    "        x, apikey)\n",
    "        data = requests.get(url).json()\n",
    "        data = requests.get(url).json()\n",
    "        long1 = data['coord']['lon'] #pull the longitudes\n",
    "        lat1 = data['coord']['lat'] #latitudes\n",
    "        max_temp1 = data['main']['temp_max'] #pull high tempeture\n",
    "        humidity1 = data['main']['humidity'] #pull humidity\n",
    "        clouds1 = data['clouds']['all'] #pull cloudiness \n",
    "        wind1 = data['wind']['speed'] #pull windspeed\n",
    "        country1 = data['sys']['country'] #pull country code\n",
    "        name1 = data['name'] #pull city name\n",
    "        long.append(long1) #append above data to the list created above\n",
    "        lat.append(lat1)\n",
    "        max_temp.append(max_temp1)\n",
    "        humidity.append(humidity1)\n",
    "        clouds.append(clouds1)\n",
    "        wind.append(wind1)\n",
    "        country.append(country1)\n",
    "        name.append(name1)\n",
    "        print(f'Processing Record {len(name)} | {x}')\n",
    "        time.sleep(0.95) #wait 0.95 seconds to move on; this keeps api requests within my rate limit\n",
    "    except KeyError:\n",
    "        print(f'{x} not found. Skipping...')\n",
    "        time.sleep(0.95)\n"
   ]
  },
  {
   "cell_type": "code",
   "execution_count": 93,
   "metadata": {},
   "outputs": [],
   "source": [
    "#convert lists into a dictionary\n",
    "data = {'Longitude': long, 'Latitude': lat, 'Maximum Tempeture': max_temp, 'Humidity': humidity,\n",
    "        'Cloudiness(%)': clouds, 'Wind Speed': wind, 'City Name': name}\n"
   ]
  },
  {
   "cell_type": "code",
   "execution_count": 98,
   "metadata": {},
   "outputs": [
    {
     "data": {
      "text/plain": [
       "'RU'"
      ]
     },
     "execution_count": 98,
     "metadata": {},
     "output_type": "execute_result"
    }
   ],
   "source": [
    "requests.get(url).json()['sys']['country']"
   ]
  },
  {
   "cell_type": "code",
   "execution_count": null,
   "metadata": {},
   "outputs": [],
   "source": []
  }
 ],
 "metadata": {
  "kernelspec": {
   "display_name": "Python 3",
   "language": "python",
   "name": "python3"
  },
  "language_info": {
   "codemirror_mode": {
    "name": "ipython",
    "version": 3
   },
   "file_extension": ".py",
   "mimetype": "text/x-python",
   "name": "python",
   "nbconvert_exporter": "python",
   "pygments_lexer": "ipython3",
   "version": "3.7.3"
  }
 },
 "nbformat": 4,
 "nbformat_minor": 2
}
